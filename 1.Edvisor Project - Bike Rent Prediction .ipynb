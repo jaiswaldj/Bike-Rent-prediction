{
 "cells": [
  {
   "cell_type": "code",
   "execution_count": 1,
   "metadata": {},
   "outputs": [],
   "source": [
    "#libraries\n",
    "import os\n",
    "import datetime\n",
    "import pandas as pd \n",
    "import numpy as np\n",
    "import matplotlib.pyplot as plt\n",
    "import seaborn as sns\n",
    "from random import randrange, uniform"
   ]
  },
  {
   "cell_type": "code",
   "execution_count": 2,
   "metadata": {},
   "outputs": [],
   "source": [
    "#Change the directory\n",
    "os.chdir(\"E:\\Edvisor Project\")"
   ]
  },
  {
   "cell_type": "code",
   "execution_count": 3,
   "metadata": {},
   "outputs": [],
   "source": [
    "#load the csv file\n",
    "bike_rental_data = pd.read_csv(\"Day.csv\" ,index_col = 0)"
   ]
  },
  {
   "cell_type": "markdown",
   "metadata": {},
   "source": [
    "Missing Value Analysis"
   ]
  },
  {
   "cell_type": "code",
   "execution_count": 4,
   "metadata": {},
   "outputs": [
    {
     "data": {
      "text/html": [
       "<div>\n",
       "<style scoped>\n",
       "    .dataframe tbody tr th:only-of-type {\n",
       "        vertical-align: middle;\n",
       "    }\n",
       "\n",
       "    .dataframe tbody tr th {\n",
       "        vertical-align: top;\n",
       "    }\n",
       "\n",
       "    .dataframe thead th {\n",
       "        text-align: right;\n",
       "    }\n",
       "</style>\n",
       "<table border=\"1\" class=\"dataframe\">\n",
       "  <thead>\n",
       "    <tr style=\"text-align: right;\">\n",
       "      <th></th>\n",
       "      <th>Missing_percentage</th>\n",
       "    </tr>\n",
       "  </thead>\n",
       "  <tbody>\n",
       "    <tr>\n",
       "      <th>dteday</th>\n",
       "      <td>0.0</td>\n",
       "    </tr>\n",
       "    <tr>\n",
       "      <th>season</th>\n",
       "      <td>0.0</td>\n",
       "    </tr>\n",
       "    <tr>\n",
       "      <th>yr</th>\n",
       "      <td>0.0</td>\n",
       "    </tr>\n",
       "    <tr>\n",
       "      <th>mnth</th>\n",
       "      <td>0.0</td>\n",
       "    </tr>\n",
       "    <tr>\n",
       "      <th>holiday</th>\n",
       "      <td>0.0</td>\n",
       "    </tr>\n",
       "    <tr>\n",
       "      <th>weekday</th>\n",
       "      <td>0.0</td>\n",
       "    </tr>\n",
       "    <tr>\n",
       "      <th>workingday</th>\n",
       "      <td>0.0</td>\n",
       "    </tr>\n",
       "    <tr>\n",
       "      <th>weathersit</th>\n",
       "      <td>0.0</td>\n",
       "    </tr>\n",
       "    <tr>\n",
       "      <th>temp</th>\n",
       "      <td>0.0</td>\n",
       "    </tr>\n",
       "    <tr>\n",
       "      <th>atemp</th>\n",
       "      <td>0.0</td>\n",
       "    </tr>\n",
       "    <tr>\n",
       "      <th>hum</th>\n",
       "      <td>0.0</td>\n",
       "    </tr>\n",
       "    <tr>\n",
       "      <th>windspeed</th>\n",
       "      <td>0.0</td>\n",
       "    </tr>\n",
       "    <tr>\n",
       "      <th>casual</th>\n",
       "      <td>0.0</td>\n",
       "    </tr>\n",
       "    <tr>\n",
       "      <th>registered</th>\n",
       "      <td>0.0</td>\n",
       "    </tr>\n",
       "    <tr>\n",
       "      <th>cnt</th>\n",
       "      <td>0.0</td>\n",
       "    </tr>\n",
       "  </tbody>\n",
       "</table>\n",
       "</div>"
      ],
      "text/plain": [
       "            Missing_percentage\n",
       "dteday                     0.0\n",
       "season                     0.0\n",
       "yr                         0.0\n",
       "mnth                       0.0\n",
       "holiday                    0.0\n",
       "weekday                    0.0\n",
       "workingday                 0.0\n",
       "weathersit                 0.0\n",
       "temp                       0.0\n",
       "atemp                      0.0\n",
       "hum                        0.0\n",
       "windspeed                  0.0\n",
       "casual                     0.0\n",
       "registered                 0.0\n",
       "cnt                        0.0"
      ]
     },
     "execution_count": 4,
     "metadata": {},
     "output_type": "execute_result"
    }
   ],
   "source": [
    "#Calculate the null values in the dataframe\n",
    "missing_value = pd.DataFrame(bike_rental_data.isnull().sum())\n",
    "missing_value = (missing_value/len(bike_rental_data))*100\n",
    "missing_value.reset_index()\n",
    "\n",
    "missing_value = missing_value.rename(columns = {'index': 'Variables', 0: 'Missing_percentage'})\n",
    "#Arranging Missing Values in Decreasing Order\n",
    "missing_value = missing_value.sort_values('Missing_percentage', ascending = False)\n",
    "#save output results \n",
    "missing_value.to_csv(\"Missing_perc.csv\", index = False)\n",
    "missing_value\n",
    "\n",
    "#There is no missing value in the dataframe"
   ]
  },
  {
   "cell_type": "markdown",
   "metadata": {},
   "source": [
    "Outlier Analysis"
   ]
  },
  {
   "cell_type": "code",
   "execution_count": 5,
   "metadata": {},
   "outputs": [
    {
     "data": {
      "text/plain": [
       "{'whiskers': [<matplotlib.lines.Line2D at 0x28e222dbef0>,\n",
       "  <matplotlib.lines.Line2D at 0x28e222ed518>],\n",
       " 'caps': [<matplotlib.lines.Line2D at 0x28e222ed860>,\n",
       "  <matplotlib.lines.Line2D at 0x28e222edba8>],\n",
       " 'boxes': [<matplotlib.lines.Line2D at 0x28e222dbd68>],\n",
       " 'medians': [<matplotlib.lines.Line2D at 0x28e222edef0>],\n",
       " 'fliers': [<matplotlib.lines.Line2D at 0x28e222edfd0>],\n",
       " 'means': []}"
      ]
     },
     "execution_count": 5,
     "metadata": {},
     "output_type": "execute_result"
    },
    {
     "data": {
      "image/png": "[encoded data removed]",
      "text/plain": [
       "<Figure size 432x288 with 1 Axes>"
      ]
     },
     "metadata": {
      "needs_background": "light"
     },
     "output_type": "display_data"
    }
   ],
   "source": [
    "#Negative outlier found in hum \n",
    "%matplotlib inline\n",
    "plt.boxplot(bike_rental_data['hum'])"
   ]
  },
  {
   "cell_type": "code",
   "execution_count": 6,
   "metadata": {},
   "outputs": [
    {
     "data": {
      "text/plain": [
       "{'whiskers': [<matplotlib.lines.Line2D at 0x28e2236ae10>,\n",
       "  <matplotlib.lines.Line2D at 0x28e2236aef0>],\n",
       " 'caps': [<matplotlib.lines.Line2D at 0x28e223764e0>,\n",
       "  <matplotlib.lines.Line2D at 0x28e22376828>],\n",
       " 'boxes': [<matplotlib.lines.Line2D at 0x28e2236a9e8>],\n",
       " 'medians': [<matplotlib.lines.Line2D at 0x28e22376b70>],\n",
       " 'fliers': [<matplotlib.lines.Line2D at 0x28e22376eb8>],\n",
       " 'means': []}"
      ]
     },
     "execution_count": 6,
     "metadata": {},
     "output_type": "execute_result"
    },
    {
     "data": {
      "image/png": "[encoded data removed]",
      "text/plain": [
       "<Figure size 432x288 with 1 Axes>"
      ]
     },
     "metadata": {
      "needs_background": "light"
     },
     "output_type": "display_data"
    }
   ],
   "source": [
    "%matplotlib inline\n",
    "plt.boxplot(bike_rental_data['windspeed'])\n",
    "\n",
    "#Postive outliers found in windspeed"
   ]
  },
  {
   "cell_type": "code",
   "execution_count": 7,
   "metadata": {},
   "outputs": [],
   "source": [
    "cnames = [\"dteday\",\"yr\",\"season\",\"mnth\",\"workingday\",\"weekday\",\"weathersit\",\"temp\",\"atemp\",\"hum\",\"windspeed\"]\n",
    "pnames = [\"temp\",\"hum\",\"windspeed\"]"
   ]
  },
  {
   "cell_type": "code",
   "execution_count": 8,
   "metadata": {},
   "outputs": [
    {
     "name": "stdout",
     "output_type": "stream",
     "text": [
      "temp\n",
      "-0.14041600000000015\n",
      "1.1329160000000003\n",
      "hum\n",
      "0.20468725\n",
      "1.0455212500000002\n",
      "windspeed\n",
      "-0.012431000000000025\n",
      "0.380585\n"
     ]
    }
   ],
   "source": [
    "#Detect & Delete Outliers\n",
    "for i in pnames :\n",
    "    print (i)\n",
    "    q75,q25 = np.percentile(bike_rental_data.loc[:,i],[75,25])\n",
    "    iqr = q75-q25\n",
    "    \n",
    "    min = q25 - (iqr*1.5)\n",
    "    max = q75 + (iqr*1.5)\n",
    "    print (min)\n",
    "    print (max)\n",
    "    \n",
    "    bike_rental_data = bike_rental_data.drop(bike_rental_data[bike_rental_data.loc[:,i] < min].index)\n",
    "    bike_rental_data = bike_rental_data.drop(bike_rental_data[bike_rental_data.loc[:,i] > max].index)  "
   ]
  },
  {
   "cell_type": "code",
   "execution_count": 9,
   "metadata": {},
   "outputs": [],
   "source": [
    "#Converting redpective variables to required data format \n",
    "bike_rental_data['dteday'] = pd.to_datetime(bike_rental_data['dteday'],yearfirst=True)\n",
    "bike_rental_data['season'] = bike_rental_data['season'].astype('category')\n",
    "bike_rental_data['yr'] = bike_rental_data['yr'].astype('category')\n",
    "bike_rental_data['mnth'] = bike_rental_data['mnth'].astype('category')\n",
    "bike_rental_data['holiday'] = bike_rental_data['holiday'].astype('category')\n",
    "bike_rental_data['weekday'] = bike_rental_data['weekday'].astype('category')\n",
    "bike_rental_data['workingday'] = bike_rental_data['workingday'].astype('category')\n",
    "bike_rental_data['weathersit'] = bike_rental_data['weathersit'].astype('category')\n",
    "\n",
    "bike_rental_data['temp'] = bike_rental_data['temp'].astype('float')\n",
    "bike_rental_data['atemp'] = bike_rental_data['atemp'].astype('float')\n",
    "bike_rental_data['hum'] = bike_rental_data['hum'].astype('float')\n",
    "bike_rental_data['windspeed'] = bike_rental_data['windspeed'].astype('float')\n",
    "bike_rental_data['casual'] = bike_rental_data['casual'].astype('float')\n",
    "bike_rental_data['registered'] = bike_rental_data['registered'].astype('float')\n",
    "bike_rental_data['cnt'] = bike_rental_data['cnt'].astype('float')"
   ]
  },
  {
   "cell_type": "code",
   "execution_count": 10,
   "metadata": {},
   "outputs": [
    {
     "data": {
      "text/plain": [
       "<matplotlib.axes._subplots.AxesSubplot at 0x28e22394198>"
      ]
     },
     "execution_count": 10,
     "metadata": {},
     "output_type": "execute_result"
    },
    {
     "data": {
      "image/png": "[encoded data removed]",
      "text/plain": [
       "<Figure size 504x360 with 2 Axes>"
      ]
     },
     "metadata": {
      "needs_background": "light"
     },
     "output_type": "display_data"
    }
   ],
   "source": [
    "##Feature selection o the basis of various features like correlation, multicollinearity.\n",
    "#Correlation Plot\n",
    "df_corr = bike_rental_data.loc[:,cnames]\n",
    "#Set the width and hieght of the plot\n",
    "f, ax = plt.subplots(figsize=(7, 5))\n",
    "\n",
    "#Generate correlation matrix\n",
    "corr = df_corr.corr()\n",
    "\n",
    "#Plot using seaborn library\n",
    "sns.heatmap(corr, mask=np.zeros_like(corr, dtype=np.bool), cmap=sns.diverging_palette(220, 10, as_cmap=True),\n",
    "            square=True, ax=ax)"
   ]
  },
  {
   "cell_type": "code",
   "execution_count": 11,
   "metadata": {},
   "outputs": [],
   "source": [
    "#Chi Square Test of Independence\n",
    "#Saving Categorical Numbers\n",
    "cat_names = [\"season\",\"yr\",\"mnth\",\"holiday\",\"weekday\",\"workingday\",\"weathersit\"]"
   ]
  },
  {
   "cell_type": "code",
   "execution_count": 12,
   "metadata": {},
   "outputs": [
    {
     "name": "stdout",
     "output_type": "stream",
     "text": [
      "season\n",
      "2049\n",
      "yr\n",
      "683\n",
      "mnth\n",
      "7513\n",
      "holiday\n",
      "683\n",
      "weekday\n",
      "4098\n",
      "workingday\n",
      "683\n",
      "weathersit\n",
      "1366\n"
     ]
    }
   ],
   "source": [
    "from scipy.stats import chi2_contingency\n",
    "for i in cat_names:\n",
    "    print(i)\n",
    "    chi2, p, dof, ex = chi2_contingency(pd.crosstab(bike_rental_data['cnt'], bike_rental_data[i]))\n",
    "    print(dof)"
   ]
  },
  {
   "cell_type": "code",
   "execution_count": 13,
   "metadata": {},
   "outputs": [],
   "source": [
    "#Removing variables atemp beacuse it is highly correlated with temp,\n",
    "#Removing weekday,holiday because they don;t contribute much to the independent cariable\n",
    "#Removing Causal and registered becuase that's what we need to predict.\n",
    "\n",
    "bike_rental_data = bike_rental_data.drop(['atemp','holiday','workingday','casual','registered'], axis =1)"
   ]
  },
  {
   "cell_type": "markdown",
   "metadata": {},
   "source": [
    "Exploratory Data Analysis"
   ]
  },
  {
   "cell_type": "code",
   "execution_count": 14,
   "metadata": {},
   "outputs": [
    {
     "name": "stderr",
     "output_type": "stream",
     "text": [
      "C:\\Users\\Deepak Jaiswal\\Anaconda3\\lib\\site-packages\\matplotlib\\axes\\_axes.py:6521: MatplotlibDeprecationWarning: \n",
      "The 'normed' kwarg was deprecated in Matplotlib 2.1 and will be removed in 3.1. Use 'density' instead.\n",
      "  alternative=\"'density'\", removal=\"3.1\")\n"
     ]
    },
    {
     "data": {
      "image/png": "[encoded data removed]",
      "text/plain": [
       "<Figure size 432x288 with 1 Axes>"
      ]
     },
     "metadata": {
      "needs_background": "light"
     },
     "output_type": "display_data"
    }
   ],
   "source": [
    "#Distribution of cnt\n",
    "%matplotlib inline\n",
    "\n",
    "num_bins = 11\n",
    "plt.hist(bike_rental_data['cnt'], num_bins, normed=1, facecolor='red', alpha=0.5)\n",
    "plt.show()"
   ]
  },
  {
   "cell_type": "code",
   "execution_count": 15,
   "metadata": {},
   "outputs": [
    {
     "name": "stdout",
     "output_type": "stream",
     "text": [
      "mnth\n",
      "1     61\n",
      "2     53\n",
      "3     58\n",
      "4     58\n",
      "5     62\n",
      "6     60\n",
      "7     62\n",
      "8     62\n",
      "9     60\n",
      "10    60\n",
      "11    60\n",
      "12    61\n",
      "dtype: int64\n"
     ]
    },
    {
     "data": {
      "text/plain": [
       "Text(0, 0.5, 'Total Bikes Rented')"
      ]
     },
     "execution_count": 15,
     "metadata": {},
     "output_type": "execute_result"
    },
    {
     "data": {
      "image/png": "[encoded data removed]",
      "text/plain": [
       "<Figure size 432x288 with 1 Axes>"
      ]
     },
     "metadata": {
      "needs_background": "light"
     },
     "output_type": "display_data"
    }
   ],
   "source": [
    "#Bike Rentals Monthly\n",
    "sales_by_month = bike_rental_data.groupby('mnth').size()\n",
    "print(sales_by_month)\n",
    "#Plotting the Graph\n",
    "plot_by_month = sales_by_month.plot(title='Monthly Sales',xticks=(1,2,3,4,5,6,7,8,9,10,11,12))\n",
    "plot_by_month.set_xlabel('Months')\n",
    "plot_by_month.set_ylabel('Total Bikes Rented')"
   ]
  },
  {
   "cell_type": "code",
   "execution_count": 16,
   "metadata": {},
   "outputs": [
    {
     "data": {
      "text/plain": [
       "Text(0, 0.5, 'Total BIkes Rented')"
      ]
     },
     "execution_count": 16,
     "metadata": {},
     "output_type": "execute_result"
    },
    {
     "data": {
      "image/png": "[encoded data removed]",
      "text/plain": [
       "<Figure size 432x288 with 1 Axes>"
      ]
     },
     "metadata": {
      "needs_background": "light"
     },
     "output_type": "display_data"
    }
   ],
   "source": [
    "#Sales by Season\n",
    "sales_by_weekday = bike_rental_data.groupby('season').size()\n",
    "plot_by_day = sales_by_weekday.plot(title='Season Sales',xticks=(range(1,4)),rot=55)\n",
    "plot_by_day.set_xlabel('season')\n",
    "plot_by_day.set_ylabel('Total BIkes Rented')"
   ]
  },
  {
   "cell_type": "code",
   "execution_count": 17,
   "metadata": {},
   "outputs": [],
   "source": [
    "#Import Libraries for decision tree\n",
    "from sklearn import tree\n",
    "from sklearn.metrics import accuracy_score\n",
    "from sklearn.model_selection import train_test_split"
   ]
  },
  {
   "cell_type": "code",
   "execution_count": 18,
   "metadata": {},
   "outputs": [],
   "source": [
    "#Divide data into train and test\n",
    "X = bike_rental_data.values[:,1:9]\n",
    "Y = bike_rental_data.values[:,9]\n",
    "\n",
    "X_train,y_train,X_test,y_test = train_test_split( X, Y, test_size = 0.2)"
   ]
  },
  {
   "cell_type": "code",
   "execution_count": 19,
   "metadata": {},
   "outputs": [],
   "source": [
    "from sklearn.ensemble import RandomForestRegressor\n",
    "\n",
    "#RF_model = RandomForestRegressor(n_estimators = 100).fit(X_train, y_train)\n",
    "RF_model = RandomForestRegressor(n_estimators = 1000, random_state = 1337)\n",
    "# Train the model on training data\n",
    "RF_model.fit(X_train, X_test);\n",
    "\n",
    "# Use the forest's predict method on the test data\n",
    "predictions = RF_model.predict(y_train)\n",
    "# Calculate the absolute errors\n",
    "errors = abs(predictions - y_test)"
   ]
  },
  {
   "cell_type": "code",
   "execution_count": 20,
   "metadata": {},
   "outputs": [
    {
     "name": "stdout",
     "output_type": "stream",
     "text": [
      "Accuracy: 85.64 %.\n"
     ]
    }
   ],
   "source": [
    "# Calculate mean absolute percentage error (MAPE)\n",
    "mape = 100 * (errors / y_test)\n",
    "# Calculate and display accuracy\n",
    "accuracy = 100 - np.mean(mape)\n",
    "print('Accuracy:', round(accuracy, 2), '%.')"
   ]
  },
  {
   "cell_type": "markdown",
   "metadata": {},
   "source": [
    "##Conclusion\n",
    "#Random Forect Model hs been developed and result calculated. "
   ]
  }
 ],
 "metadata": {
  "kernelspec": {
   "display_name": "Python 3",
   "language": "python",
   "name": "python3"
  },
  "language_info": {
   "codemirror_mode": {
    "name": "ipython",
    "version": 3
   },
   "file_extension": ".py",
   "mimetype": "text/x-python",
   "name": "python",
   "nbconvert_exporter": "python",
   "pygments_lexer": "ipython3",
   "version": "3.7.3"
  }
 },
 "nbformat": 4,
 "nbformat_minor": 2
}
